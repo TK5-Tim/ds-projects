{
 "cells": [
  {
   "cell_type": "code",
   "execution_count": 109,
   "metadata": {},
   "outputs": [],
   "source": [
    "import sportsdataverse as sdv\n",
    "import pandas as pd\n",
    "import numpy as np\n",
    "import matplotlib.pyplot as plt\n",
    "pd.set_option(\"display.max_columns\", None)\n",
    "pd.set_option(\"display.max_rows\", None)"
   ]
  },
  {
   "cell_type": "code",
   "execution_count": 74,
   "metadata": {},
   "outputs": [],
   "source": [
    "df_shots = pd.read_csv(\"/Users/keltim01/git_repos/TK5/soc-viz-of-the-week/10172022/data/10172022_mls.csv\", index_col=0)"
   ]
  },
  {
   "cell_type": "code",
   "execution_count": 75,
   "metadata": {},
   "outputs": [
    {
     "data": {
      "text/html": [
       "<div>\n",
       "<style scoped>\n",
       "    .dataframe tbody tr th:only-of-type {\n",
       "        vertical-align: middle;\n",
       "    }\n",
       "\n",
       "    .dataframe tbody tr th {\n",
       "        vertical-align: top;\n",
       "    }\n",
       "\n",
       "    .dataframe thead th {\n",
       "        text-align: right;\n",
       "    }\n",
       "</style>\n",
       "<table border=\"1\" class=\"dataframe\">\n",
       "  <thead>\n",
       "    <tr style=\"text-align: right;\">\n",
       "      <th></th>\n",
       "      <th>teamId</th>\n",
       "      <th>playerId</th>\n",
       "      <th>playerName</th>\n",
       "      <th>min</th>\n",
       "      <th>xG</th>\n",
       "      <th>eventType</th>\n",
       "      <th>teamColor</th>\n",
       "      <th>match_id</th>\n",
       "      <th>isOwnGoal</th>\n",
       "      <th>x</th>\n",
       "      <th>y</th>\n",
       "      <th>situation</th>\n",
       "      <th>teamName</th>\n",
       "    </tr>\n",
       "  </thead>\n",
       "  <tbody>\n",
       "    <tr>\n",
       "      <th>0</th>\n",
       "      <td>6001</td>\n",
       "      <td>750922</td>\n",
       "      <td>Artur</td>\n",
       "      <td>2</td>\n",
       "      <td>0.010215</td>\n",
       "      <td>AttemptSaved</td>\n",
       "      <td>#808010</td>\n",
       "      <td>3787426</td>\n",
       "      <td>False</td>\n",
       "      <td>98.245616</td>\n",
       "      <td>23.368663</td>\n",
       "      <td>FromCorner</td>\n",
       "      <td>Columbus Crew</td>\n",
       "    </tr>\n",
       "    <tr>\n",
       "      <th>1</th>\n",
       "      <td>6001</td>\n",
       "      <td>322965</td>\n",
       "      <td>Lucas Zelarayan</td>\n",
       "      <td>3</td>\n",
       "      <td>0.065710</td>\n",
       "      <td>Miss</td>\n",
       "      <td>#808010</td>\n",
       "      <td>3787426</td>\n",
       "      <td>False</td>\n",
       "      <td>85.816176</td>\n",
       "      <td>33.847499</td>\n",
       "      <td>RegularPlay</td>\n",
       "      <td>Columbus Crew</td>\n",
       "    </tr>\n",
       "    <tr>\n",
       "      <th>2</th>\n",
       "      <td>6001</td>\n",
       "      <td>416124</td>\n",
       "      <td>Milos Degenek</td>\n",
       "      <td>6</td>\n",
       "      <td>0.110263</td>\n",
       "      <td>Miss</td>\n",
       "      <td>#808010</td>\n",
       "      <td>3787426</td>\n",
       "      <td>False</td>\n",
       "      <td>97.377193</td>\n",
       "      <td>32.169999</td>\n",
       "      <td>FromCorner</td>\n",
       "      <td>Columbus Crew</td>\n",
       "    </tr>\n",
       "    <tr>\n",
       "      <th>3</th>\n",
       "      <td>6001</td>\n",
       "      <td>281628</td>\n",
       "      <td>Pedro Santos</td>\n",
       "      <td>7</td>\n",
       "      <td>0.031801</td>\n",
       "      <td>AttemptSaved</td>\n",
       "      <td>#808010</td>\n",
       "      <td>3787426</td>\n",
       "      <td>False</td>\n",
       "      <td>81.809225</td>\n",
       "      <td>48.975287</td>\n",
       "      <td>RegularPlay</td>\n",
       "      <td>Columbus Crew</td>\n",
       "    </tr>\n",
       "    <tr>\n",
       "      <th>4</th>\n",
       "      <td>6001</td>\n",
       "      <td>1166273</td>\n",
       "      <td>Miguel Berry</td>\n",
       "      <td>8</td>\n",
       "      <td>0.038990</td>\n",
       "      <td>Goal</td>\n",
       "      <td>#808010</td>\n",
       "      <td>3787426</td>\n",
       "      <td>False</td>\n",
       "      <td>86.782355</td>\n",
       "      <td>38.200237</td>\n",
       "      <td>RegularPlay</td>\n",
       "      <td>Columbus Crew</td>\n",
       "    </tr>\n",
       "  </tbody>\n",
       "</table>\n",
       "</div>"
      ],
      "text/plain": [
       "   teamId  playerId       playerName  min        xG     eventType teamColor  \\\n",
       "0    6001    750922            Artur    2  0.010215  AttemptSaved   #808010   \n",
       "1    6001    322965  Lucas Zelarayan    3  0.065710          Miss   #808010   \n",
       "2    6001    416124    Milos Degenek    6  0.110263          Miss   #808010   \n",
       "3    6001    281628     Pedro Santos    7  0.031801  AttemptSaved   #808010   \n",
       "4    6001   1166273     Miguel Berry    8  0.038990          Goal   #808010   \n",
       "\n",
       "   match_id  isOwnGoal          x          y    situation       teamName  \n",
       "0   3787426      False  98.245616  23.368663   FromCorner  Columbus Crew  \n",
       "1   3787426      False  85.816176  33.847499  RegularPlay  Columbus Crew  \n",
       "2   3787426      False  97.377193  32.169999   FromCorner  Columbus Crew  \n",
       "3   3787426      False  81.809225  48.975287  RegularPlay  Columbus Crew  \n",
       "4   3787426      False  86.782355  38.200237  RegularPlay  Columbus Crew  "
      ]
     },
     "execution_count": 75,
     "metadata": {},
     "output_type": "execute_result"
    }
   ],
   "source": [
    "df_shots.head()"
   ]
  },
  {
   "cell_type": "code",
   "execution_count": 76,
   "metadata": {},
   "outputs": [],
   "source": [
    "players = [\n",
    "    'Karol Swiderski',\n",
    "    'Hany Mukhtar',\n",
    "    'Cristian Arango',\n",
    "    'Sebastian Driussi',\n",
    "    'Jeremy Ebobisse',\n",
    "    'Luiz Araujo'\n",
    "]"
   ]
  },
  {
   "cell_type": "code",
   "execution_count": 77,
   "metadata": {},
   "outputs": [],
   "source": [
    "df_shots_cleaned = df_shots.loc[df_shots['playerName'].isin(players)]"
   ]
  },
  {
   "cell_type": "code",
   "execution_count": 78,
   "metadata": {},
   "outputs": [],
   "source": [
    "df_shots_cleaned.to_csv('data/viz-buzz-mls-shotmaps-cleaned.csv')"
   ]
  },
  {
   "cell_type": "code",
   "execution_count": 79,
   "metadata": {},
   "outputs": [
    {
     "name": "stderr",
     "output_type": "stream",
     "text": [
      "  0%|          | 0/1 [00:00<?, ?it/s]/Users/keltim01/git_repos/TK5/sportsdataverse-py/sportsdataverse/nhl/nhl_loaders.py:59: FutureWarning: The frame.append method is deprecated and will be removed from pandas in a future version. Use pandas.concat instead.\n",
      "  data = data.append(i_data)\n",
      "100%|██████████| 1/1 [00:00<00:00,  3.40it/s]\n"
     ]
    }
   ],
   "source": [
    "df_nhl_schedule = sdv.nhl.load_nhl_schedule(seasons=range(2023,2024))"
   ]
  },
  {
   "cell_type": "code",
   "execution_count": 80,
   "metadata": {},
   "outputs": [
    {
     "data": {
      "text/plain": [
       "(955, 28)"
      ]
     },
     "execution_count": 80,
     "metadata": {},
     "output_type": "execute_result"
    }
   ],
   "source": [
    "df_nhl_schedule.shape"
   ]
  },
  {
   "cell_type": "code",
   "execution_count": 81,
   "metadata": {},
   "outputs": [
    {
     "name": "stderr",
     "output_type": "stream",
     "text": [
      "  0%|          | 0/1 [00:00<?, ?it/s]/Users/keltim01/git_repos/TK5/sportsdataverse-py/sportsdataverse/nhl/nhl_loaders.py:32: FutureWarning: The frame.append method is deprecated and will be removed from pandas in a future version. Use pandas.concat instead.\n",
      "  data = data.append(i_data)\n",
      "100%|██████████| 1/1 [00:05<00:00,  5.46s/it]\n"
     ]
    }
   ],
   "source": [
    "df_nhl_pbp = sdv.nhl.load_nhl_pbp(seasons=range(2023,2024))"
   ]
  },
  {
   "cell_type": "code",
   "execution_count": 90,
   "metadata": {},
   "outputs": [],
   "source": [
    "df_nhl_pbp_mtl = df_nhl_pbp[(df_nhl_pbp['home_abbreviation'] == 'MTL') | (df_nhl_pbp['away_abbreviation'] == 'MTL')]"
   ]
  },
  {
   "cell_type": "code",
   "execution_count": 91,
   "metadata": {},
   "outputs": [
    {
     "data": {
      "text/plain": [
       "array(['GAME_SCHEDULED', 'CHANGE', 'FACEOFF', 'GIVEAWAY', 'BLOCKED_SHOT',\n",
       "       'HIT', 'SHOT', 'STOP', 'PENALTY', 'MISSED_SHOT', 'GOAL',\n",
       "       'TAKEAWAY', 'PERIOD_END', 'GAME_END', 'CHALLENGE',\n",
       "       'SHOOTOUT_COMPLETE'], dtype=object)"
      ]
     },
     "execution_count": 91,
     "metadata": {},
     "output_type": "execute_result"
    }
   ],
   "source": [
    "df_nhl_pbp_mtl.event_type.unique()"
   ]
  },
  {
   "cell_type": "code",
   "execution_count": 118,
   "metadata": {},
   "outputs": [],
   "source": [
    "df_nhl_pbp_mtl_goals = df_nhl_pbp_mtl[(df_nhl_pbp_mtl['event_type'] == 'GOAL') | (df_nhl_pbp_mtl['event_type'] == 'SHOOTOUT_COMPLETE') | (df_nhl_pbp_mtl['event_type'] == 'GAME_SCHEDULED')]"
   ]
  },
  {
   "cell_type": "code",
   "execution_count": 119,
   "metadata": {},
   "outputs": [],
   "source": [
    "df_nhl_pbp_mtl_goals = df_nhl_pbp_mtl_goals[['game_id','game_seconds', 'home_score', 'away_score', 'home_abbreviation', 'away_abbreviation', 'event_type']]"
   ]
  },
  {
   "cell_type": "code",
   "execution_count": 120,
   "metadata": {},
   "outputs": [],
   "source": [
    "shootout_games = df_nhl_pbp_mtl_goals.loc[df_nhl_pbp_mtl_goals['event_type'] == \"SHOOTOUT_COMPLETE\", 'game_id'].tolist()"
   ]
  },
  {
   "cell_type": "code",
   "execution_count": 121,
   "metadata": {},
   "outputs": [],
   "source": [
    "df_shootout_games_results = df_nhl_schedule.loc[df_nhl_schedule['game_id'].isin(shootout_games), ['game_id','away_score', 'home_score']]"
   ]
  },
  {
   "cell_type": "code",
   "execution_count": 122,
   "metadata": {},
   "outputs": [],
   "source": [
    "for index, row in df_shootout_games_results.iterrows():\n",
    "    if row['away_score'] > row['home_score']:\n",
    "        df_nhl_pbp_mtl_goals.loc[(df_nhl_pbp_mtl_goals['game_id'] == row['game_id']) & (df_nhl_pbp_mtl_goals['event_type'] == \"SHOOTOUT_COMPLETE\") ,['away_score', 'home_score']] = [row['away_score'], row['home_score']]\n"
   ]
  },
  {
   "cell_type": "code",
   "execution_count": 123,
   "metadata": {},
   "outputs": [],
   "source": [
    "df_nhl_pbp_mtl_goals.loc[df_nhl_pbp_mtl_goals['home_abbreviation'] == 'MTL', 'mtl_score'] = df_nhl_pbp_mtl_goals['home_score']\n",
    "df_nhl_pbp_mtl_goals.loc[df_nhl_pbp_mtl_goals['away_abbreviation'] == 'MTL', 'mtl_score'] = df_nhl_pbp_mtl_goals['away_score']\n",
    "df_nhl_pbp_mtl_goals.loc[df_nhl_pbp_mtl_goals['home_abbreviation'] == 'MTL', 'opp_score'] = df_nhl_pbp_mtl_goals['away_score']\n",
    "df_nhl_pbp_mtl_goals.loc[df_nhl_pbp_mtl_goals['away_abbreviation'] == 'MTL', 'opp_score'] = df_nhl_pbp_mtl_goals['home_score']"
   ]
  },
  {
   "cell_type": "code",
   "execution_count": 124,
   "metadata": {},
   "outputs": [],
   "source": [
    "df_nhl_pbp_mtl_goals.drop(columns=['home_score', 'away_score', 'home_abbreviation', 'away_abbreviation'], inplace=True)"
   ]
  },
  {
   "cell_type": "code",
   "execution_count": 125,
   "metadata": {},
   "outputs": [],
   "source": [
    "df_nhl_pbp_mtl_goals[['mtl_score', 'opp_score']] = df_nhl_pbp_mtl_goals[['mtl_score', 'opp_score']].astype(int)"
   ]
  },
  {
   "cell_type": "code",
   "execution_count": 127,
   "metadata": {},
   "outputs": [],
   "source": [
    "df_nhl_pbp_mtl_goals['score_diff'] = df_nhl_pbp_mtl_goals['mtl_score'] - df_nhl_pbp_mtl_goals['opp_score']"
   ]
  },
  {
   "cell_type": "code",
   "execution_count": 128,
   "metadata": {},
   "outputs": [],
   "source": [
    "df_nhl_pbp_mtl_goals['total_goals'] = df_nhl_pbp_mtl_goals['mtl_score'] + df_nhl_pbp_mtl_goals['opp_score']"
   ]
  },
  {
   "cell_type": "code",
   "execution_count": 129,
   "metadata": {},
   "outputs": [],
   "source": [
    "df_nhl_pbp_mtl_goals.to_csv('data/viz-buzz-nhl-goal-tree.csv')"
   ]
  },
  {
   "cell_type": "code",
   "execution_count": 130,
   "metadata": {},
   "outputs": [
    {
     "name": "stderr",
     "output_type": "stream",
     "text": [
      "/var/folders/ts/3wmv3bq14n37zqx8km69cxtm0000gn/T/ipykernel_6368/418980752.py:2: UserWarning: No data for colormapping provided via 'c'. Parameters 'cmap' will be ignored\n",
      "  plt.scatter(df_nhl_pbp_mtl_goals['score_diff'], df_nhl_pbp_mtl_goals['total_goals'], cmap='RdYlGn', s=100)\n"
     ]
    },
    {
     "data": {
      "image/png": "[encoded data removed]",
      "text/plain": [
       "<Figure size 1000x1000 with 1 Axes>"
      ]
     },
     "metadata": {},
     "output_type": "display_data"
    }
   ],
   "source": [
    "fig, ax = plt.subplots(figsize=(10,10))\n",
    "plt.scatter(df_nhl_pbp_mtl_goals['score_diff'], df_nhl_pbp_mtl_goals['total_goals'], cmap='RdYlGn', s=100)\n",
    "plt.xlabel('score difference')\n",
    "plt.ylabel('total goals')\n",
    "fig.savefig('viz-buzz-nhl-goal-tree.png')"
   ]
  },
  {
   "cell_type": "code",
   "execution_count": null,
   "metadata": {},
   "outputs": [],
   "source": []
  },
  {
   "cell_type": "code",
   "execution_count": null,
   "metadata": {},
   "outputs": [],
   "source": []
  },
  {
   "cell_type": "code",
   "execution_count": null,
   "metadata": {},
   "outputs": [],
   "source": []
  }
 ],
 "metadata": {
  "kernelspec": {
   "display_name": "Python 3",
   "language": "python",
   "name": "python3"
  },
  "language_info": {
   "codemirror_mode": {
    "name": "ipython",
    "version": 3
   },
   "file_extension": ".py",
   "mimetype": "text/x-python",
   "name": "python",
   "nbconvert_exporter": "python",
   "pygments_lexer": "ipython3",
   "version": "3.10.8"
  },
  "orig_nbformat": 4,
  "vscode": {
   "interpreter": {
    "hash": "aee8b7b246df8f9039afb4144a1f6fd8d2ca17a180786b69acc140d282b71a49"
   }
  }
 },
 "nbformat": 4,
 "nbformat_minor": 2
}
