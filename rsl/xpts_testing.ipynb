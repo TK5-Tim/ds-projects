{
 "cells": [
  {
   "cell_type": "code",
   "execution_count": 21,
   "metadata": {},
   "outputs": [],
   "source": [
    "from fast_poibin import PoiBin\n",
    "import numpy as np\n",
    "import pandas as pd\n",
    "\n",
    "pd.set_option(\"display.max_columns\", None)\n",
    "pd.set_option(\"display.max_rows\", None)"
   ]
  },
  {
   "cell_type": "code",
   "execution_count": 10,
   "metadata": {},
   "outputs": [],
   "source": [
    "df_shots = pd.read_csv('data/super_leagues_shots_2223.csv', index_col=0)"
   ]
  },
  {
   "cell_type": "code",
   "execution_count": 82,
   "metadata": {},
   "outputs": [],
   "source": [
    "df_shots_single_game = df_shots[df_shots['match_id'] == 3905465]"
   ]
  },
  {
   "cell_type": "code",
   "execution_count": 83,
   "metadata": {},
   "outputs": [],
   "source": [
    "team_ids = df_shots_single_game.team_id.unique()"
   ]
  },
  {
   "cell_type": "code",
   "execution_count": 84,
   "metadata": {},
   "outputs": [],
   "source": [
    "xg_a = df_shots_single_game.loc[df_shots_single_game['team_id'] == team_ids[0],'expected_goals'].values\n",
    "xg_b = df_shots_single_game.loc[df_shots_single_game['team_id'] == team_ids[1],'expected_goals'].values"
   ]
  },
  {
   "cell_type": "code",
   "execution_count": 85,
   "metadata": {},
   "outputs": [],
   "source": [
    "goals = [0,1,2,3,4,5,6]"
   ]
  },
  {
   "cell_type": "code",
   "execution_count": 86,
   "metadata": {},
   "outputs": [
    {
     "name": "stdout",
     "output_type": "stream",
     "text": [
      "[0.   0.03 0.13 0.26 0.29 0.19 0.08 0.02 0.   0.   0.   0.   0.   0.\n",
      " 0.   0.   0.   0.   0.   0.   0.  ]\n"
     ]
    }
   ],
   "source": [
    "poibin1 = PoiBin(xg_a)\n",
    "probs_a = poibin1.pmf.round(2)\n",
    "print(probs_a)"
   ]
  },
  {
   "cell_type": "code",
   "execution_count": 87,
   "metadata": {},
   "outputs": [
    {
     "name": "stdout",
     "output_type": "stream",
     "text": [
      "[0.19 0.73 0.08 0.  ]\n"
     ]
    }
   ],
   "source": [
    "poibin2 = PoiBin(xg_b)\n",
    "probs_b = poibin2.pmf.round(2)\n",
    "print(probs_b)"
   ]
  },
  {
   "cell_type": "code",
   "execution_count": 88,
   "metadata": {},
   "outputs": [
    {
     "name": "stdout",
     "output_type": "stream",
     "text": [
      "0.0 0.97 0.03\n"
     ]
    }
   ],
   "source": [
    "outer_prod = np.outer(probs_a, probs_b)\n",
    "p_a = np.sum(np.triu(outer_prod, 1))\n",
    "p_b = np.sum(np.tril(outer_prod, -1))\n",
    "p_draw = np.sum(np.diag(outer_prod))\n",
    "print(p_a.round(2), p_b.round(2), p_draw.round(2))"
   ]
  },
  {
   "cell_type": "code",
   "execution_count": 89,
   "metadata": {},
   "outputs": [
    {
     "name": "stdout",
     "output_type": "stream",
     "text": [
      "0.04 2.93\n"
     ]
    }
   ],
   "source": [
    "xpts_a = 3 * p_a + p_draw\n",
    "xpts_b = 3 * p_b + p_draw\n",
    "print(xpts_a.round(2), xpts_b.round(2))"
   ]
  }
 ],
 "metadata": {
  "kernelspec": {
   "display_name": "Python 3",
   "language": "python",
   "name": "python3"
  },
  "language_info": {
   "codemirror_mode": {
    "name": "ipython",
    "version": 3
   },
   "file_extension": ".py",
   "mimetype": "text/x-python",
   "name": "python",
   "nbconvert_exporter": "python",
   "pygments_lexer": "ipython3",
   "version": "3.10.8"
  },
  "orig_nbformat": 4,
  "vscode": {
   "interpreter": {
    "hash": "aee8b7b246df8f9039afb4144a1f6fd8d2ca17a180786b69acc140d282b71a49"
   }
  }
 },
 "nbformat": 4,
 "nbformat_minor": 2
}
