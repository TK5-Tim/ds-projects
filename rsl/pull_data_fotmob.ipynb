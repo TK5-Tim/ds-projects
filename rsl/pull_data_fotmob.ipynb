{
 "cells": [
  {
   "cell_type": "code",
   "execution_count": 1,
   "metadata": {},
   "outputs": [],
   "source": [
    "import pandas as pd \n",
    "import numpy as np\n",
    "import matplotlib.pyplot as plt\n",
    "import seaborn as sns\n",
    "import requests\n",
    "import time\n",
    "import json\n",
    "import fotmob_scraper as fms\n",
    "from tqdm import tqdm\n",
    "import re\n",
    "\n",
    "pd.set_option(\"display.max_columns\", None)"
   ]
  },
  {
   "cell_type": "code",
   "execution_count": 2,
   "metadata": {},
   "outputs": [],
   "source": [
    "match_id = 3624062\n",
    "league_id = 69\n",
    "league_name = \"Super League\"\n",
    "\n",
    "match_url = \"https://www.fotmob.com/matchDetails?matchId={}\"\n",
    "league_url = \"https://www.fotmob.com/leagues?id={}\"\n",
    "alt_league_url = \"https://www.fotmob.com/_next/data/{}/leagues/{}/overview/{}.json\"\n",
    "page_url = \"https://www.fotmob.com/\"\n",
    "\n",
    "dict_league_name = {\n",
    "    69 : \"super-league\"\n",
    "}\n"
   ]
  },
  {
   "cell_type": "code",
   "execution_count": 3,
   "metadata": {},
   "outputs": [
    {
     "name": "stderr",
     "output_type": "stream",
     "text": [
      "100%|██████████| 145/145 [03:15<00:00,  1.35s/it]\n"
     ]
    }
   ],
   "source": [
    "df_test = fms.get_league_team_stats(league_id)"
   ]
  },
  {
   "cell_type": "code",
   "execution_count": 4,
   "metadata": {},
   "outputs": [],
   "source": [
    "df_test.to_csv('data/super_leagues_team_stats_2122.csv')"
   ]
  },
  {
   "cell_type": "code",
   "execution_count": 5,
   "metadata": {},
   "outputs": [
    {
     "name": "stderr",
     "output_type": "stream",
     "text": [
      "100%|██████████| 145/145 [03:14<00:00,  1.34s/it]\n"
     ]
    }
   ],
   "source": [
    "df_matches = fms.get_league_match_stats(league_id)"
   ]
  },
  {
   "cell_type": "code",
   "execution_count": 6,
   "metadata": {},
   "outputs": [],
   "source": [
    "df_matches.to_csv('data/super_leagues_game_stats_2122.csv')"
   ]
  },
  {
   "cell_type": "code",
   "execution_count": 7,
   "metadata": {},
   "outputs": [
    {
     "name": "stderr",
     "output_type": "stream",
     "text": [
      "100%|██████████| 145/145 [05:34<00:00,  2.31s/it]\n"
     ]
    }
   ],
   "source": [
    "df_shots = fms.get_league_shots(league_id)"
   ]
  },
  {
   "cell_type": "code",
   "execution_count": 8,
   "metadata": {},
   "outputs": [],
   "source": [
    "df_shots.to_csv('data/super_leagues_shots_2122.csv')"
   ]
  }
 ],
 "metadata": {
  "interpreter": {
   "hash": "7e85ec9bf098c5427e45e2f632dcd4eeff803b007e1abd287d600879388709c1"
  },
  "kernelspec": {
   "display_name": "Python 3.8.12 64-bit",
   "language": "python",
   "name": "python3"
  },
  "language_info": {
   "codemirror_mode": {
    "name": "ipython",
    "version": 3
   },
   "file_extension": ".py",
   "mimetype": "text/x-python",
   "name": "python",
   "nbconvert_exporter": "python",
   "pygments_lexer": "ipython3",
   "version": "3.8.12"
  },
  "orig_nbformat": 4
 },
 "nbformat": 4,
 "nbformat_minor": 2
}
